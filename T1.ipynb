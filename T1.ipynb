{
 "cells": [
  {
   "cell_type": "code",
   "execution_count": null,
   "metadata": {},
   "outputs": [],
   "source": [
    "import numpy as np\n",
    "import pandas as pd\n",
    "import matplotlib.pyplot as plt\n",
    "from tadgan import tadgan, telemanom\n",
    "%matplotlib inline"
   ]
  },
  {
   "cell_type": "markdown",
   "metadata": {},
   "source": [
    "# preprocess"
   ]
  },
  {
   "cell_type": "code",
   "execution_count": null,
   "metadata": {},
   "outputs": [],
   "source": [
    "train_csv = 'processed_train_T1.csv'\n",
    "src_file = 'telemanom/data/test/T-1.npy'"
   ]
  },
  {
   "cell_type": "code",
   "execution_count": null,
   "metadata": {},
   "outputs": [],
   "source": [
    "label_df = pd.read_csv('telemanom/labeled_anomalies.csv')"
   ]
  },
  {
   "cell_type": "code",
   "execution_count": null,
   "metadata": {
    "scrolled": true
   },
   "outputs": [],
   "source": [
    "label_df"
   ]
  },
  {
   "cell_type": "code",
   "execution_count": null,
   "metadata": {},
   "outputs": [],
   "source": [
    "anomaly_sequences = eval(label_df[label_df['chan_id'] == 'T-1']['anomaly_sequences'].item())"
   ]
  },
  {
   "cell_type": "code",
   "execution_count": null,
   "metadata": {},
   "outputs": [],
   "source": [
    "train_size = sorted(anomaly_sequences, key=lambda x: x[0])[0][0]"
   ]
  },
  {
   "cell_type": "code",
   "execution_count": null,
   "metadata": {},
   "outputs": [],
   "source": [
    "telemanom.process(src_file, train_csv, train_range=train_size)"
   ]
  },
  {
   "cell_type": "markdown",
   "metadata": {},
   "source": [
    "# train"
   ]
  },
  {
   "cell_type": "code",
   "execution_count": null,
   "metadata": {},
   "outputs": [],
   "source": [
    "train_dataset = telemanom.TelemanomDataset(train_csv)\n",
    "tadgan.set_seed()\n",
    "gan = tadgan.TadGAN(train_dataset)"
   ]
  },
  {
   "cell_type": "code",
   "execution_count": null,
   "metadata": {
    "scrolled": true
   },
   "outputs": [],
   "source": [
    "(cx_loss, cz_loss, g_loss) = gan.train(num_epoch=100,debug=True)"
   ]
  },
  {
   "cell_type": "code",
   "execution_count": null,
   "metadata": {},
   "outputs": [],
   "source": [
    "values = cx_loss\n",
    "title = 'cx_loss'\n",
    "start = 0\n",
    "end = values.shape[0]\n",
    "\n",
    "fig = plt.figure(figsize=(12, 8))\n",
    "ax = fig.add_subplot(111)\n",
    "ax.set_title(title)\n",
    "x = np.linspace(start, end, end - start)\n",
    "ax.plot(x,values[start:end])\n",
    "plt.show()"
   ]
  },
  {
   "cell_type": "code",
   "execution_count": null,
   "metadata": {},
   "outputs": [],
   "source": [
    "values = g_loss\n",
    "title = 'g_loss'\n",
    "start = 0\n",
    "end = values.shape[0]\n",
    "\n",
    "fig = plt.figure(figsize=(12, 8))\n",
    "ax = fig.add_subplot(111)\n",
    "ax.set_title(title)\n",
    "x = np.linspace(start, end, end - start)\n",
    "ax.plot(x,values[start:end])\n",
    "plt.show()"
   ]
  },
  {
   "cell_type": "code",
   "execution_count": null,
   "metadata": {},
   "outputs": [],
   "source": [
    "raw = gan.raw\n",
    "reconstructed = gan.reconstruct(raw)"
   ]
  },
  {
   "cell_type": "code",
   "execution_count": null,
   "metadata": {
    "scrolled": false
   },
   "outputs": [],
   "source": [
    "start = 0\n",
    "end = raw.shape[0]\n",
    "title = 'train'\n",
    "\n",
    "fig = plt.figure(figsize=(8, 4))\n",
    "ax = fig.add_subplot(111)\n",
    "x = np.linspace(start, end, end - start)\n",
    "ax.set_title(title)\n",
    "for [anomaly_start, anomaly_end] in anomaly_sequences:\n",
    "    ax.axvspan(anomaly_start, anomaly_end, color='gray', alpha=0.25)\n",
    "ax.plot(raw, 'r', label='raw')\n",
    "ax.plot(reconstructed, 'b', label='reconstructed')\n",
    "plt.xlim(start, end)\n",
    "plt.ylim(-1.1, 1.1)\n",
    "ax.legend()\n",
    "plt.show()"
   ]
  },
  {
   "cell_type": "markdown",
   "metadata": {},
   "source": [
    "# test"
   ]
  },
  {
   "cell_type": "code",
   "execution_count": null,
   "metadata": {},
   "outputs": [],
   "source": [
    "left_edge = int(train_size*0.8)\n",
    "test_values =np.load(src_file)[left_edge:-1,0].reshape(-1, 1)\n",
    "test_reconstructed = gan.reconstruct(test_values)"
   ]
  },
  {
   "cell_type": "code",
   "execution_count": null,
   "metadata": {},
   "outputs": [],
   "source": [
    "title = 'test'\n",
    "start = left_edge\n",
    "end = left_edge + test_values.shape[0]\n",
    "\n",
    "fig = plt.figure(figsize=(8, 4))\n",
    "ax = fig.add_subplot(111)\n",
    "ax.set_title(title)\n",
    "x = np.linspace(start, end - 1, test_values.shape[0])\n",
    "\n",
    "for [anomaly_start, anomaly_end] in anomaly_sequences:\n",
    "    ax.axvspan(anomaly_start, anomaly_end, color='gray', alpha=0.25)\n",
    "ax.plot(x, test_values, 'r', label='raw')\n",
    "ax.plot(x, test_reconstructed, 'b', label='reconstructed')\n",
    "plt.xlim(start, end)\n",
    "plt.ylim(-1.1, 1.1)\n",
    "ax.legend()\n",
    "plt.show()"
   ]
  },
  {
   "cell_type": "code",
   "execution_count": null,
   "metadata": {},
   "outputs": [],
   "source": [
    "anomaly_score1 = gan.anomaly_score(test_values, test_reconstructed, distance='point', alpha=1)"
   ]
  },
  {
   "cell_type": "code",
   "execution_count": null,
   "metadata": {},
   "outputs": [],
   "source": [
    "values = anomaly_score1\n",
    "title = 'distance=point'\n",
    "start = left_edge\n",
    "end = left_edge + test_values.shape[0]\n",
    "\n",
    "fig = plt.figure(figsize=(8, 4))\n",
    "ax = fig.add_subplot(111)\n",
    "ax.set_title(title)\n",
    "x = np.linspace(start, end - 1, test_values.shape[0])\n",
    "for [anomaly_start, anomaly_end] in anomaly_sequences:\n",
    "    ax.axvspan(anomaly_start, anomaly_end, color='gray', alpha=0.25)\n",
    "ax.plot(x, values, 'b', label='reconstructed')\n",
    "plt.xlim(start, end)\n",
    "plt.ylim(bottom=0)\n",
    "ax.legend()\n",
    "plt.show()"
   ]
  },
  {
   "cell_type": "code",
   "execution_count": null,
   "metadata": {},
   "outputs": [],
   "source": [
    "anomaly_score2 = gan.anomaly_score(test_values, test_reconstructed, distance='dtw', combination=None, score_window=10)"
   ]
  },
  {
   "cell_type": "code",
   "execution_count": null,
   "metadata": {
    "scrolled": true
   },
   "outputs": [],
   "source": [
    "values = anomaly_score2\n",
    "title = 'distance=dtw, score_window=10'\n",
    "start = left_edge\n",
    "end = left_edge + test_values.shape[0]\n",
    "\n",
    "fig = plt.figure(figsize=(8, 4))\n",
    "ax = fig.add_subplot(111)\n",
    "ax.set_title(title)\n",
    "x = np.linspace(start, end - 1, test_values.shape[0])\n",
    "for [anomaly_start, anomaly_end] in anomaly_sequences:\n",
    "    ax.axvspan(anomaly_start, anomaly_end, color='gray', alpha=0.25)\n",
    "ax.plot(x, values, 'b', label='reconstructed')\n",
    "plt.xlim(start, end)\n",
    "plt.ylim(bottom=0)\n",
    "ax.legend()\n",
    "plt.show()"
   ]
  },
  {
   "cell_type": "code",
   "execution_count": null,
   "metadata": {},
   "outputs": [],
   "source": [
    "anomaly_score3 = gan.anomaly_score(test_values, test_reconstructed, distance='point', alpha=0)"
   ]
  },
  {
   "cell_type": "code",
   "execution_count": null,
   "metadata": {},
   "outputs": [],
   "source": [
    "values = anomaly_score3\n",
    "title = 'alpha=0'\n",
    "start = left_edge\n",
    "end = left_edge + test_values.shape[0]\n",
    "\n",
    "fig = plt.figure(figsize=(8, 4))\n",
    "ax = fig.add_subplot(111)\n",
    "ax.set_title(title)\n",
    "x = np.linspace(start, end - 1, test_values.shape[0])\n",
    "for [anomaly_start, anomaly_end] in anomaly_sequences:\n",
    "    ax.axvspan(anomaly_start, anomaly_end, color='gray', alpha=0.25)\n",
    "ax.plot(x, values, 'b', label='reconstructed')\n",
    "plt.xlim(start, end)\n",
    "plt.ylim(bottom=0)\n",
    "ax.legend()\n",
    "plt.show()"
   ]
  },
  {
   "cell_type": "code",
   "execution_count": null,
   "metadata": {},
   "outputs": [],
   "source": [
    "anomaly_score4 = gan.anomaly_score(test_values, test_reconstructed, distance='dtw', alpha=0.5)"
   ]
  },
  {
   "cell_type": "code",
   "execution_count": null,
   "metadata": {},
   "outputs": [],
   "source": [
    "values = anomaly_score4\n",
    "title = 'distance=dtw, score_window=10, combination=add, alpha=0.50'\n",
    "start = left_edge\n",
    "end = left_edge + test_values.shape[0]\n",
    "\n",
    "fig = plt.figure(figsize=(8, 4))\n",
    "ax = fig.add_subplot(111)\n",
    "ax.set_title(title)\n",
    "x = np.linspace(start, end - 1, test_values.shape[0])\n",
    "for [anomaly_start, anomaly_end] in anomaly_sequences:\n",
    "    ax.axvspan(anomaly_start, anomaly_end, color='gray', alpha=0.25)\n",
    "ax.plot(x, values, 'b', label='reconstructed')\n",
    "plt.xlim(start, end)\n",
    "plt.ylim(bottom=0)\n",
    "ax.legend()\n",
    "plt.show()"
   ]
  }
 ],
 "metadata": {
  "kernelspec": {
   "display_name": "Python 3",
   "language": "python",
   "name": "python3"
  },
  "language_info": {
   "codemirror_mode": {
    "name": "ipython",
    "version": 3
   },
   "file_extension": ".py",
   "mimetype": "text/x-python",
   "name": "python",
   "nbconvert_exporter": "python",
   "pygments_lexer": "ipython3",
   "version": "3.8.10"
  }
 },
 "nbformat": 4,
 "nbformat_minor": 4
}
